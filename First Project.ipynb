{
 "cells": [
  {
   "cell_type": "code",
   "execution_count": 28,
   "metadata": {},
   "outputs": [],
   "source": [
    "from manim import * \n",
    "\n",
    "config.media_width = \"75%\"\n",
    "config.verbosity = \"WARNING\"\n",
    "config.background_color = BLACK"
   ]
  },
  {
   "cell_type": "code",
   "execution_count": 29,
   "metadata": {},
   "outputs": [
    {
     "name": "stderr",
     "output_type": "stream",
     "text": [
      "                                                                                   \r"
     ]
    },
    {
     "data": {
      "text/html": [
       "<video src=\"media/jupyter/SMOSeniorSection@2023-12-04@01-23-40.mp4\" controls autoplay loop style=\"max-width: 75%;\"  >\n",
       "      Your browser does not support the <code>video</code> element.\n",
       "    </video>"
      ],
      "text/plain": [
       "<IPython.core.display.Video object>"
      ]
     },
     "metadata": {},
     "output_type": "display_data"
    }
   ],
   "source": [
    "class SMOSeniorSection(Scene):\n",
    "    def construct(self):\n",
    "        # Define the vertices of the triangle\n",
    "        triangle_points = [-3, -2, 0], [3, -2, 0], [1, 2, 0]\n",
    "\n",
    "        # Create the triangle\n",
    "        triangle = Polygon(*triangle_points)\n",
    "\n",
    "        # Label the vertices\n",
    "        labels = VGroup(\n",
    "            Text(\"A\").move_to(triangle_points[0]),\n",
    "            Text(\"B\").move_to(triangle_points[1]),\n",
    "            Text(\"C\").move_to(triangle_points[2]),\n",
    "        )\n",
    "\n",
    "        # Draw the angle bisectors\n",
    "        angle_A = Angle(Line(start=triangle_points[0],end=triangle_points[1]),Line(start=triangle_points[0], end=triangle_points[2]), color=YELLOW)\n",
    "        # angle_B = Angle(triangle_points[1], triangle_points[2],color=YELLOW)\n",
    "        # angle_C = Angle(triangle_points[0], triangle_points[2],color=YELLOW)\n",
    "\n",
    "        # Display the triangle, labels, and angle bisectors\n",
    "        self.play(Create(triangle), Write(labels))\n",
    "        self.wait()\n",
    "        self.play(Create(angle_A))\n",
    "        # self.play(Create(angle_A), Create(angle_B), Create(angle_C))\n",
    "        # self.play(Create(bisector_A), Create(bisector_B), Create(bisector_C))\n",
    "        self.wait()\n",
    "\n",
    "%manim -qm SMOSeniorSection"
   ]
  },
  {
   "cell_type": "code",
   "execution_count": null,
   "metadata": {},
   "outputs": [],
   "source": []
  }
 ],
 "metadata": {
  "kernelspec": {
   "display_name": "my-manim-environment",
   "language": "python",
   "name": "python3"
  },
  "language_info": {
   "codemirror_mode": {
    "name": "ipython",
    "version": 3
   },
   "file_extension": ".py",
   "mimetype": "text/x-python",
   "name": "python",
   "nbconvert_exporter": "python",
   "pygments_lexer": "ipython3",
   "version": "3.10.13"
  }
 },
 "nbformat": 4,
 "nbformat_minor": 2
}
